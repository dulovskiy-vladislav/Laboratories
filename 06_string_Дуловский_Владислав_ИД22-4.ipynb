{
 "cells": [
  {
   "cell_type": "markdown",
   "metadata": {},
   "source": [
    "# Работа со строковыми значениями"
   ]
  },
  {
   "cell_type": "markdown",
   "metadata": {},
   "source": [
    "## Задачи для совместного разбора"
   ]
  },
  {
   "cell_type": "markdown",
   "metadata": {},
   "source": [
    "1. Вывести на экран данные из словаря `obj` построчно в виде `k = v`, задав формат таким образом, чтобы знак равенства оказался на одной и той же позиции во всех строках. Строковые литералы обернуть в кавычки."
   ]
  },
  {
   "cell_type": "code",
   "execution_count": 1,
   "metadata": {},
   "outputs": [
    {
     "name": "stdout",
     "output_type": "stream",
     "text": [
      "home_page       = https://github.com/pypa/sampleproject\n",
      "keywords        = sample setuptools development\n",
      "license         = MIT\n"
     ]
    }
   ],
   "source": [
    "obj = {\n",
    "    \"home_page\": \"https://github.com/pypa/sampleproject\",\n",
    "    \"keywords\": \"sample setuptools development\",\n",
    "    \"license\": \"MIT\",\n",
    "}\n",
    "for k, v in obj.items():\n",
    "    print(f\"{k:<15} = {v}\")\n"
   ]
  },
  {
   "cell_type": "markdown",
   "metadata": {},
   "source": [
    "2. Написать регулярное выражение,которое позволит найти номера групп студентов."
   ]
  },
  {
   "cell_type": "code",
   "execution_count": 4,
   "metadata": {},
   "outputs": [
    {
     "name": "stdout",
     "output_type": "stream",
     "text": [
      "19-1\n",
      "20-4\n",
      "20-3\n"
     ]
    }
   ],
   "source": [
    "import re\n",
    "obj = pd.Series([\"Евгения гр.ПМ19-1\", \"Илья пм 20-4\", \"Анна 20-3\"])\n",
    "for s in obj:\n",
    "    match = re.search(r'\\d{1,2}-\\d{1,2}', s)\n",
    "    if match:\n",
    "        print(match.group())"
   ]
  },
  {
   "cell_type": "markdown",
   "metadata": {},
   "source": [
    "3. Разбейте текст формулировки задачи 2 на слова."
   ]
  },
  {
   "cell_type": "code",
   "execution_count": 5,
   "metadata": {},
   "outputs": [
    {
     "name": "stdout",
     "output_type": "stream",
     "text": [
      "['Написать', 'регулярное', 'выражение,которое', 'позволит', 'найти', 'номера', 'групп', 'студентов.']\n"
     ]
    }
   ],
   "source": [
    "text = \"Написать регулярное выражение,которое позволит найти номера групп студентов.\"\n",
    "words = re.findall(r'\\b\\w+\\b', text)\n",
    "print(words)"
   ]
  },
  {
   "cell_type": "markdown",
   "metadata": {},
   "source": [
    "## Лабораторная работа 6"
   ]
  },
  {
   "cell_type": "markdown",
   "metadata": {},
   "source": [
    "### Форматирование строк"
   ]
  },
  {
   "cell_type": "markdown",
   "metadata": {},
   "source": [
    "1\\. Загрузите данные из файла `recipes_sample.csv` (__ЛР2__) в виде `pd.DataFrame` `recipes` При помощи форматирования строк выведите информацию об id рецепта и времени выполнения 5 случайных рецептов в виде таблицы следующего вида:\n",
    "\n",
    "    \n",
    "    |      id      |  minutes  |\n",
    "    |--------------------------|\n",
    "    |    61178     |    65     |\n",
    "    |    202352    |    80     |\n",
    "    |    364322    |    150    |\n",
    "    |    26177     |    20     |\n",
    "    |    224785    |    35     |\n",
    "    \n",
    "Обратите внимание, что ширина столбцов заранее неизвестна и должна рассчитываться динамически, в зависимости от тех данных, которые были выбраны. "
   ]
  },
  {
   "cell_type": "code",
   "execution_count": 9,
   "metadata": {},
   "outputs": [
    {
     "name": "stdout",
     "output_type": "stream",
     "text": [
      "id: 269680     minutes: 35        \n",
      "id: 317716     minutes: 75        \n",
      "id: 216167     minutes: 30        \n",
      "id: 215254     minutes: 5         \n",
      "id: 35509      minutes: 45        \n"
     ]
    }
   ],
   "source": [
    "recipes = pd.read_csv('recipes_sample.csv')\n",
    "\n",
    "for _, row in recipes.sample(5).iterrows():\n",
    "    print(\"id: {:<10} minutes: {:<10}\".format(row['id'], row['minutes']))"
   ]
  },
  {
   "cell_type": "markdown",
   "metadata": {},
   "source": [
    "2\\. Напишите функцию `show_info`, которая по данным о рецепте создает строку (в смысле объекта python) с описанием следующего вида:\n",
    "\n",
    "```\n",
    "\"Название Из Нескольких Слов\"\n",
    "\n",
    "1. Шаг 1\n",
    "2. Шаг 2\n",
    "----------\n",
    "Автор: contributor_id\n",
    "Среднее время приготовления: minutes минут\n",
    "```\n",
    "\n",
    "    \n",
    "Данные для создания строки получите из файлов `recipes_sample.csv` (__ЛР2__) и `steps_sample.xml` (__ЛР3__). \n",
    "Вызовите данную функцию для рецепта с id `170895` и выведите (через `print`) полученную строку на экран."
   ]
  },
  {
   "cell_type": "code",
   "execution_count": 8,
   "metadata": {
    "scrolled": true
   },
   "outputs": [
    {
     "name": "stdout",
     "output_type": "stream",
     "text": [
      "Leeks And Parsnips  Sauteed Or Creamed\n",
      "\n",
      "----------\n",
      "Автор: 8377\n",
      "Среднее время приготовления: 27 минут\n",
      "\n"
     ]
    }
   ],
   "source": [
    "import csv\n",
    "import xml.etree.ElementTree as ET\n",
    "\n",
    "def show_info(recipe_id):\n",
    "    with open('recipes_sample.csv', newline='', encoding='utf-8') as csvfile:\n",
    "        reader = csv.DictReader(csvfile)\n",
    "        # Поиск рецепта по идентификатору\n",
    "        for row in reader:\n",
    "            if row['id'] == recipe_id:\n",
    "                # Получение информации о рецепте\n",
    "                recipe_name = row['name'].title()\n",
    "                author_id = row['contributor_id']\n",
    "                cook_time = int(row['minutes'])\n",
    "                break\n",
    "\n",
    "    with open('steps_sample.xml', encoding='utf-8') as xmlfile:\n",
    "        root = ET.fromstring(xmlfile.read())\n",
    "        steps = root.findall(\".//recipe[@id='\" + recipe_id + \"']/recipetext\")      # Поиск шагов рецепта по идентификатору\n",
    "\n",
    "    # Формирование строки\n",
    "    result = recipe_name + \"\\n\\n\"\n",
    "    for i, step in enumerate(steps):\n",
    "        result += f\"{i+1}. {step.text}\\n\"\n",
    "    result += \"----------\\n\"\n",
    "    result += f\"Автор: {author_id}\\n\"\n",
    "    result += f\"Среднее время приготовления: {cook_time} минут\\n\"\n",
    "    return result\n",
    "\n",
    "print(show_info('170895'))"
   ]
  },
  {
   "cell_type": "markdown",
   "metadata": {},
   "source": [
    "## Работа с регулярными выражениями"
   ]
  },
  {
   "cell_type": "markdown",
   "metadata": {},
   "source": [
    "3\\. Напишите регулярное выражение, которое ищет следующий паттерн в строке: число (1 цифра или более), затем пробел, затем слова: hour или hours или minute или minutes. Произведите поиск по данному регулярному выражению в каждом шаге рецепта с id 25082. Выведите на экран все непустые результаты, найденные по данному шаблону."
   ]
  },
  {
   "cell_type": "code",
   "execution_count": 31,
   "metadata": {},
   "outputs": [
    {
     "name": "stdout",
     "output_type": "stream",
     "text": [
      "['20 minute']\n",
      "['10 minute']\n",
      "['2 hour']\n",
      "['10 minute']\n",
      "['20 minute', '30 minute']\n"
     ]
    }
   ],
   "source": [
    "import re\n",
    "import xml.etree.ElementTree as ET\n",
    "\n",
    "from bs4 import BeautifulSoup\n",
    "with open('steps_sample.xml', mode = 'r') as file:\n",
    "    step_xml = BeautifulSoup(file, 'xml')\n",
    "\n",
    "\n",
    "pattern = re.compile(r'\\d+\\s(?:hour|hours|minute|minutes)')\n",
    "for i in step_xml.find_all('recipe'):\n",
    "    if int(i.find('id').get_text()) == 25082:\n",
    "        for j in i.find_all('step'):\n",
    "            res = pattern.findall(j.get_text())\n",
    "            if res:\n",
    "                print(res)"
   ]
  },
  {
   "cell_type": "markdown",
   "metadata": {},
   "source": [
    "4\\. Напишите регулярное выражение, которое ищет шаблон вида \"this..., but\" _в начале строки_ . Между словом \"this\" и частью \", but\" может находиться произвольное число букв, цифр, знаков подчеркивания и пробелов. Никаких других символов вместо многоточия быть не может. Пробел между запятой и словом \"but\" может присутствовать или отсутствовать.\n",
    "\n",
    "Используя строковые методы `pd.Series`, выясните, для каких рецептов данный шаблон содержится в тексте описания. Выведите на экран количество таких рецептов и 3 примера подходящих описаний (текст описания должен быть виден на экране полностью)."
   ]
  },
  {
   "cell_type": "code",
   "execution_count": 27,
   "metadata": {},
   "outputs": [
    {
     "name": "stdout",
     "output_type": "stream",
     "text": [
      "Количество рецептов с подходящим описанием: 2\n",
      "\n",
      "Примеры описаний:\n"
     ]
    },
    {
     "data": {
      "text/html": [
       "<div>\n",
       "<style scoped>\n",
       "    .dataframe tbody tr th:only-of-type {\n",
       "        vertical-align: middle;\n",
       "    }\n",
       "\n",
       "    .dataframe tbody tr th {\n",
       "        vertical-align: top;\n",
       "    }\n",
       "\n",
       "    .dataframe thead th {\n",
       "        text-align: right;\n",
       "    }\n",
       "</style>\n",
       "<table border=\"1\" class=\"dataframe\">\n",
       "  <thead>\n",
       "    <tr style=\"text-align: right;\">\n",
       "      <th></th>\n",
       "      <th>name</th>\n",
       "      <th>id</th>\n",
       "      <th>minutes</th>\n",
       "      <th>contributor_id</th>\n",
       "      <th>submitted</th>\n",
       "      <th>n_steps</th>\n",
       "      <th>description</th>\n",
       "      <th>n_ingredients</th>\n",
       "    </tr>\n",
       "  </thead>\n",
       "  <tbody>\n",
       "    <tr>\n",
       "      <th>18466</th>\n",
       "      <td>my own best  bbq ed baked beans</td>\n",
       "      <td>120245</td>\n",
       "      <td>80</td>\n",
       "      <td>113941</td>\n",
       "      <td>2005-05-01</td>\n",
       "      <td>NaN</td>\n",
       "      <td>this makes a lot...but...\"one for the potluck ...</td>\n",
       "      <td>NaN</td>\n",
       "    </tr>\n",
       "    <tr>\n",
       "      <th>21958</th>\n",
       "      <td>quick n easy eclair cake</td>\n",
       "      <td>43366</td>\n",
       "      <td>270</td>\n",
       "      <td>56447</td>\n",
       "      <td>2002-10-16</td>\n",
       "      <td>NaN</td>\n",
       "      <td>this dessert dish sounds a little strange...bu...</td>\n",
       "      <td>5.0</td>\n",
       "    </tr>\n",
       "  </tbody>\n",
       "</table>\n",
       "</div>"
      ],
      "text/plain": [
       "                                  name      id  minutes  contributor_id  \\\n",
       "18466  my own best  bbq ed baked beans  120245       80          113941   \n",
       "21958         quick n easy eclair cake   43366      270           56447   \n",
       "\n",
       "        submitted  n_steps                                        description  \\\n",
       "18466  2005-05-01      NaN  this makes a lot...but...\"one for the potluck ...   \n",
       "21958  2002-10-16      NaN  this dessert dish sounds a little strange...bu...   \n",
       "\n",
       "       n_ingredients  \n",
       "18466            NaN  \n",
       "21958            5.0  "
      ]
     },
     "execution_count": 27,
     "metadata": {},
     "output_type": "execute_result"
    }
   ],
   "source": [
    "import pandas as pd\n",
    "import re\n",
    "\n",
    "recipes = pd.read_csv('recipes_sample.csv')\n",
    "\n",
    "matching_recipes = recipes['description'].str.match('^this[\\w\\s]*\\.{3}\\s*,?\\s*but')\n",
    "num_matching_recipes = matching_recipes.sum()\n",
    "\n",
    "print(f'Количество рецептов с подходящим описанием: {num_matching_recipes}\\n')\n",
    "print('Примеры описаний:')\n",
    "recipes[matching_recipes == True]"
   ]
  },
  {
   "cell_type": "markdown",
   "metadata": {},
   "source": [
    "5\\. В текстах шагов рецептов обыкновенные дроби имеют вид \"a / b\". Используя регулярные выражения, уберите в тексте шагов рецепта с id 72367 пробелы до и после символа дроби. Выведите на экран шаги этого рецепта после их изменения."
   ]
  },
  {
   "cell_type": "code",
   "execution_count": 38,
   "metadata": {},
   "outputs": [
    {
     "name": "stdout",
     "output_type": "stream",
     "text": [
      "2459    such a beautiful tart - just like from a europ...\n",
      "Name: description, dtype: object\n"
     ]
    }
   ],
   "source": [
    "import pandas as pd\n",
    "\n",
    "recipes = pd.read_csv('recipes_sample.csv')\n",
    "recipes\n",
    "\n",
    "steps = recipes[recipes['id'] == 72367]['description']\n",
    "steps = steps.str.replace(r'\\s*/\\s*', '/') # Убираем пробелы до и после символа дроби\n",
    "print(steps)"
   ]
  },
  {
   "cell_type": "markdown",
   "metadata": {},
   "source": [
    "### Сегментация текста"
   ]
  },
  {
   "cell_type": "markdown",
   "metadata": {},
   "source": [
    "6\\. Разбейте тексты шагов рецептов на слова при помощи пакета `nltk`. Посчитайте и выведите на экран кол-во уникальных слов среди всех рецептов. Словом называется любая последовательность алфавитных символов (для проверки можно воспользоваться `str.isalpha`). При подсчете количества уникальных слов не учитывайте регистр."
   ]
  },
  {
   "cell_type": "code",
   "execution_count": 41,
   "metadata": {},
   "outputs": [
    {
     "name": "stdout",
     "output_type": "stream",
     "text": [
      "Количество уникальных слов: 16\n"
     ]
    }
   ],
   "source": [
    "import nltk\n",
    "\n",
    "recipes = pd.read_csv('recipes_sample.csv')\n",
    "# Объединение текстов шагов в одну строку\n",
    "text = ' '.join(recipes[recipes['id'] == 72367]['description'].values)\n",
    "\n",
    "tokens = nltk.word_tokenize(text)# Разбиение текста на слова\n",
    "words = [word.lower() for word in tokens if word.isalpha()]# Отбор только слов (исключение знаков препинания и т.п.)\n",
    "\n",
    "unique_words = set(words)# Подсчет количества уникальных слов\n",
    "count = len(unique_words)\n",
    "print(f'Количество уникальных слов: {count}')\n"
   ]
  },
  {
   "cell_type": "markdown",
   "metadata": {},
   "source": [
    "7\\. Разбейте описания рецептов из `recipes` на предложения при помощи пакета `nltk`. Найдите 5 самых длинных описаний (по количеству _предложений_) рецептов в датасете и выведите строки фрейма, соответствующие этим рецептами, в порядке убывания длины."
   ]
  },
  {
   "cell_type": "code",
   "execution_count": 10,
   "metadata": {},
   "outputs": [
    {
     "name": "stdout",
     "output_type": "stream",
     "text": [
      "                                                    name      id  minutes  \\\n",
      "18408       my favorite buttercream icing for decorating  334113       30   \n",
      "481    alligator claws  avocado fritters  with chipot...  287008       45   \n",
      "22566                          rich barley mushroom soup  328708       60   \n",
      "16296  little bunny foo foo cake  carrot cake  with c...  316000       68   \n",
      "6779                                       chocolate tea  205348        6   \n",
      "\n",
      "       contributor_id   submitted  n_steps  \\\n",
      "18408          681465  2008-10-30     12.0   \n",
      "481            765354  2008-02-19      NaN   \n",
      "22566          221776  2008-10-03      NaN   \n",
      "16296          689540  2008-07-27     14.0   \n",
      "6779           428824  2007-01-14      NaN   \n",
      "\n",
      "                                             description  n_ingredients  \\\n",
      "18408  this wonderful icing is used for icing cakes a...            NaN   \n",
      "481    a translucent golden-brown crust allows the gr...            9.0   \n",
      "22566  this is one of the best soups i've ever made a...           10.0   \n",
      "16296  the first time i made this cake i grated a mil...            NaN   \n",
      "6779   i wrote this because there are an astounding l...            NaN   \n",
      "\n",
      "       sentences  \n",
      "18408         76  \n",
      "481           27  \n",
      "22566         24  \n",
      "16296         23  \n",
      "6779          23  \n"
     ]
    }
   ],
   "source": [
    "import nltk\n",
    "import pandas as pd\n",
    "\n",
    "recipes = pd.read_csv('recipes_sample.csv')\n",
    "\n",
    "recipes['sentences'] = recipes['description'].apply(lambda x: len(nltk.sent_tokenize(str(x))))\n",
    "\n",
    "top5 = recipes.sort_values('sentences', ascending=False).head(5) #ascending = False - сортировка по убыванию\n",
    "print(top5)"
   ]
  },
  {
   "cell_type": "markdown",
   "metadata": {},
   "source": [
    "8\\. Напишите функцию, которая для заданного предложения выводит информацию о частях речи слов, входящих в предложение, в следующем виде:\n",
    "```\n",
    "PRP   VBD   DT      NNS     CC   VBD      NNS        RB   \n",
    " I  omitted the raspberries and added strawberries instead\n",
    "``` \n",
    "Для определения части речи слова можно воспользоваться `nltk.pos_tag`.\n",
    "\n",
    "Проверьте работоспособность функции на названии рецепта с id 241106.\n",
    "\n",
    "Обратите внимание, что часть речи должна находиться ровно посередине над соотвествующим словом, а между самими словами должен быть ровно один пробел.\n"
   ]
  },
  {
   "cell_type": "code",
   "execution_count": 11,
   "metadata": {},
   "outputs": [
    {
     "name": "stdout",
     "output_type": "stream",
     "text": [
      "DT    VBP   DT    RB    JJ    NN    NN    TO    VB    IN    DT    NN    WRB   JJ    NNS   VBP   JJ    NN    CC    NNS   VBG   IN    .     DT    VBG   VBN   VBZ   DT    NN    ,     CC    EX    VBP   RB    JJ    JJR   NNS   TO    VB    DT    NN    .     VB    IN    IN    DT    JJ    NNS   CC    RB    VB    IN    WP    VBZ   JJ    TO    PRP   .     \n",
      "these are   a     really good  quick meal  to    make  in    the   summertime when  local farms have  fresh eggplant and   tomatoes coming in    .     the   topping given is    a     suggestion ,     but   there are   certainly many  more  ways  to    enjoy this  dish  .     start out   with  the   eggplant steaks and   then  top   with  what  sounds good  to    you   .     \n"
     ]
    }
   ],
   "source": [
    "def pos_tags(sentence):\n",
    "    tags = nltk.pos_tag(nltk.word_tokenize(sentence))\n",
    "    output = \"\"\n",
    "    for word, tag in tags:\n",
    "        output += f\"{tag: <{5}} \"\n",
    "    output += \"\\n\"\n",
    "    for word, tag in tags:\n",
    "        output += f\"{word: <{5}} \"\n",
    "    return output\n",
    "\n",
    "recipe = recipes[recipes['id'] == 241106]\n",
    "description = recipe.iloc[0][\"description\"]\n",
    "\n",
    "print(pos_tags(description))"
   ]
  }
 ],
 "metadata": {
  "kernelspec": {
   "display_name": "Python 3 (ipykernel)",
   "language": "python",
   "name": "python3"
  },
  "language_info": {
   "codemirror_mode": {
    "name": "ipython",
    "version": 3
   },
   "file_extension": ".py",
   "mimetype": "text/x-python",
   "name": "python",
   "nbconvert_exporter": "python",
   "pygments_lexer": "ipython3",
   "version": "3.9.12"
  }
 },
 "nbformat": 4,
 "nbformat_minor": 4
}
